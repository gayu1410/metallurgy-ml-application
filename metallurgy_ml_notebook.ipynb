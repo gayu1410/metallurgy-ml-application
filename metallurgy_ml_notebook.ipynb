{
 "cells": [
  {
   "cell_type": "markdown",
   "metadata": {},
   "source": [
    "# Mechanical Property Prediction Model for Hot Rolling Process\n",
    "In this Project, the dataset is about the hot rolled coils post cooling, machined and mechanical tests which are used to evaluate mechanical properties.\n",
    "<h5>What is Hot Rolling?</h5>\n",
    "Hot rolling is an important process wherein continuously cast slabs are heated and rolled above the recrystallization temperature to form thin sheets or coils. The composition and the process parameters play an important parameter in achieving the final mechanical properties of hot rolled steel.\n",
    "\n",
    "Model Developing will be used by taking compositional, thermal and dimensional parameters as input for predicting final mechanical properties at the end of hot rolling process using multi linear regression and random forest algorithms"
   ]
  },
  {
   "cell_type": "code",
   "execution_count": 3,
   "metadata": {},
   "outputs": [],
   "source": [
    "# Import the required libraries \n",
    "import pandas as pd\n",
    "import numpy as np\n",
    "import matplotlib as mlp\n",
    "import matplotlib.pyplot as plt\n",
    "import seaborn as sb\n",
    "%matplotlib inline\n",
    "from sklearn import linear_model \n",
    "from sklearn.metrics import mean_squared_error\n",
    "from sklearn.model_selection import GridSearchCV\n",
    "from sklearn.model_selection import train_test_split\n",
    "from sklearn.metrics import r2_score\n",
    "from sklearn.preprocessing import StandardScaler\n",
    "from sklearn.ensemble import RandomForestRegressor\n",
    "from sklearn import metrics\n",
    "from sklearn.metrics import classification_report, confusion_matrix, accuracy_score\n",
    "from sklearn.externals.six import StringIO  \n",
    "from IPython.display import Image  \n",
    "from sklearn.tree import export_graphviz\n",
    "import pydotplus\n",
    "import collections\n",
    "import pickle"
   ]
  },
  {
   "cell_type": "markdown",
   "metadata": {},
   "source": [
    "### Understanding the Dataset\n",
    "### `HSM2 Dataset.csv`:\n",
    "We have downloaded a **`HSM2 Dataset.csv`**, of coil Temperature, Dimensions and Percentage of its elements \n",
    "- **Coil ID**\n",
    "- **Furnace Exit temp**\n",
    "- **RM1 Exit**\n",
    "- **RM2 Drop Out temp**\n",
    "- **FM Entry Temp**\n",
    "- **FM Exit Temp**\n",
    "- **Coiling Temp**\n",
    "- **Original Slab Thickness**\n",
    "- **Slab Width**\n",
    "- **Slab Length**\n",
    "- **RM2 Exit Length**\n",
    "- **RM2 Exit Thickness**\n",
    "- **FM Entry Wid**\n",
    "- **FM Entry Thk**\n",
    "- **FM Entry Len**\n",
    "- **Final Thickness**\n",
    "- **Coil Len** : Coil Length\n",
    "- **f_PcntAl** : Precentage of Alluminium\n",
    "- **f_PcntB** : Precentage of Boron\n",
    "- **f_PcntC** : Precentage of Carbon\n",
    "- **f_PcntCa**: Precentage of Calcium\n",
    "- **f_PcntNb**: Precentage of Niobium\n",
    "- **f_PcntCr**: Precentage of Chromium\n",
    "- **f_PcntCu**: Precentage of Copper\n",
    "- **f_PcntMn**: Precentage of Manganese\n",
    "- **f_PcntMo**: Precentage of Molybednum\n",
    "- **f_PcntN**: Precentage of Nitrogen\n",
    "- **f_PcntNi**: Precentage of Nickel\n",
    "- **f_PcntP**: Precentage of Phosphorous\n",
    "- **f_PcntS**: Precentage of Sulphur\n",
    "- **f_PcntSi**: Precentage of Silicon\n",
    "- **f_PcntSn**: Precentage of Tin\n",
    "- **f_PcntTi**: Precentage of Titanium\n",
    "- **f_PcntV**: Precentage of Vanadium\n",
    "- **YS (Mpa)**: Yield Strength\n",
    "- **UTS (Mpa)**: Ultimate Tensile Strength"
   ]
  },
  {
   "cell_type": "code",
   "execution_count": 4,
   "metadata": {},
   "outputs": [
    {
     "name": "stdout",
     "output_type": "stream",
     "text": [
      "Enter the excel file for prediction: C:\\Users\\garim\\Downloads\\HSM2 Dataset.xlsx\n"
     ]
    },
    {
     "data": {
      "text/html": [
       "<div>\n",
       "<style scoped>\n",
       "    .dataframe tbody tr th:only-of-type {\n",
       "        vertical-align: middle;\n",
       "    }\n",
       "\n",
       "    .dataframe tbody tr th {\n",
       "        vertical-align: top;\n",
       "    }\n",
       "\n",
       "    .dataframe thead th {\n",
       "        text-align: right;\n",
       "    }\n",
       "</style>\n",
       "<table border=\"1\" class=\"dataframe\">\n",
       "  <thead>\n",
       "    <tr style=\"text-align: right;\">\n",
       "      <th></th>\n",
       "      <th>Coil ID</th>\n",
       "      <th>Furnace Exit temp</th>\n",
       "      <th>RM1 Exit</th>\n",
       "      <th>RM2 Drop Out temp.</th>\n",
       "      <th>FM Entry Temp</th>\n",
       "      <th>FM Exit Temp</th>\n",
       "      <th>Coiling Temp</th>\n",
       "      <th>Original Slab Thickness</th>\n",
       "      <th>Slab Width</th>\n",
       "      <th>Slab Length</th>\n",
       "      <th>...</th>\n",
       "      <th>f_PcntN</th>\n",
       "      <th>f_PcntNi</th>\n",
       "      <th>f_PcntP</th>\n",
       "      <th>f_PcntS</th>\n",
       "      <th>f_PcntSi</th>\n",
       "      <th>f_PcntSn</th>\n",
       "      <th>f_PcntTi</th>\n",
       "      <th>f_PcntV</th>\n",
       "      <th>YS (Mpa)</th>\n",
       "      <th>UTS (Mpa)</th>\n",
       "    </tr>\n",
       "  </thead>\n",
       "  <tbody>\n",
       "    <tr>\n",
       "      <th>0</th>\n",
       "      <td>19679009</td>\n",
       "      <td>1303.594</td>\n",
       "      <td>1043.169</td>\n",
       "      <td>1042.417</td>\n",
       "      <td>968</td>\n",
       "      <td>876.7108</td>\n",
       "      <td>621.9152</td>\n",
       "      <td>224.5</td>\n",
       "      <td>1313</td>\n",
       "      <td>11.18</td>\n",
       "      <td>...</td>\n",
       "      <td>0.0045</td>\n",
       "      <td>0.007</td>\n",
       "      <td>0.012</td>\n",
       "      <td>0.0044</td>\n",
       "      <td>0.017</td>\n",
       "      <td>0.001</td>\n",
       "      <td>0.018</td>\n",
       "      <td>0.003</td>\n",
       "      <td>445</td>\n",
       "      <td>472</td>\n",
       "    </tr>\n",
       "    <tr>\n",
       "      <th>1</th>\n",
       "      <td>19679010</td>\n",
       "      <td>1293.303</td>\n",
       "      <td>1027.293</td>\n",
       "      <td>1026.546</td>\n",
       "      <td>950</td>\n",
       "      <td>872.3495</td>\n",
       "      <td>621.4305</td>\n",
       "      <td>224.4</td>\n",
       "      <td>1313</td>\n",
       "      <td>11.16</td>\n",
       "      <td>...</td>\n",
       "      <td>0.0045</td>\n",
       "      <td>0.007</td>\n",
       "      <td>0.012</td>\n",
       "      <td>0.0044</td>\n",
       "      <td>0.017</td>\n",
       "      <td>0.001</td>\n",
       "      <td>0.018</td>\n",
       "      <td>0.003</td>\n",
       "      <td>445</td>\n",
       "      <td>472</td>\n",
       "    </tr>\n",
       "    <tr>\n",
       "      <th>2</th>\n",
       "      <td>19679011</td>\n",
       "      <td>1297.567</td>\n",
       "      <td>1039.006</td>\n",
       "      <td>1038.730</td>\n",
       "      <td>989</td>\n",
       "      <td>872.2347</td>\n",
       "      <td>621.3252</td>\n",
       "      <td>224.5</td>\n",
       "      <td>1313</td>\n",
       "      <td>9.05</td>\n",
       "      <td>...</td>\n",
       "      <td>0.0046</td>\n",
       "      <td>0.006</td>\n",
       "      <td>0.014</td>\n",
       "      <td>0.0046</td>\n",
       "      <td>0.006</td>\n",
       "      <td>0.001</td>\n",
       "      <td>0.001</td>\n",
       "      <td>0.001</td>\n",
       "      <td>366</td>\n",
       "      <td>454</td>\n",
       "    </tr>\n",
       "    <tr>\n",
       "      <th>3</th>\n",
       "      <td>19679012</td>\n",
       "      <td>1295.043</td>\n",
       "      <td>1039.496</td>\n",
       "      <td>1039.228</td>\n",
       "      <td>987</td>\n",
       "      <td>875.3984</td>\n",
       "      <td>621.3052</td>\n",
       "      <td>224.5</td>\n",
       "      <td>1313</td>\n",
       "      <td>9.05</td>\n",
       "      <td>...</td>\n",
       "      <td>0.0046</td>\n",
       "      <td>0.006</td>\n",
       "      <td>0.014</td>\n",
       "      <td>0.0046</td>\n",
       "      <td>0.006</td>\n",
       "      <td>0.001</td>\n",
       "      <td>0.001</td>\n",
       "      <td>0.001</td>\n",
       "      <td>366</td>\n",
       "      <td>454</td>\n",
       "    </tr>\n",
       "    <tr>\n",
       "      <th>4</th>\n",
       "      <td>19679041</td>\n",
       "      <td>1262.333</td>\n",
       "      <td>1040.285</td>\n",
       "      <td>1039.984</td>\n",
       "      <td>990</td>\n",
       "      <td>902.8033</td>\n",
       "      <td>634.3483</td>\n",
       "      <td>224.5</td>\n",
       "      <td>1289</td>\n",
       "      <td>10.92</td>\n",
       "      <td>...</td>\n",
       "      <td>0.0026</td>\n",
       "      <td>0.006</td>\n",
       "      <td>0.014</td>\n",
       "      <td>0.0097</td>\n",
       "      <td>0.027</td>\n",
       "      <td>0.001</td>\n",
       "      <td>0.001</td>\n",
       "      <td>0.001</td>\n",
       "      <td>324</td>\n",
       "      <td>375</td>\n",
       "    </tr>\n",
       "  </tbody>\n",
       "</table>\n",
       "<p>5 rows × 36 columns</p>\n",
       "</div>"
      ],
      "text/plain": [
       "    Coil ID  Furnace Exit temp  RM1 Exit  RM2 Drop Out temp.  FM Entry Temp  \\\n",
       "0  19679009           1303.594  1043.169            1042.417            968   \n",
       "1  19679010           1293.303  1027.293            1026.546            950   \n",
       "2  19679011           1297.567  1039.006            1038.730            989   \n",
       "3  19679012           1295.043  1039.496            1039.228            987   \n",
       "4  19679041           1262.333  1040.285            1039.984            990   \n",
       "\n",
       "   FM Exit Temp  Coiling Temp  Original Slab Thickness  Slab Width  \\\n",
       "0      876.7108      621.9152                    224.5        1313   \n",
       "1      872.3495      621.4305                    224.4        1313   \n",
       "2      872.2347      621.3252                    224.5        1313   \n",
       "3      875.3984      621.3052                    224.5        1313   \n",
       "4      902.8033      634.3483                    224.5        1289   \n",
       "\n",
       "   Slab Length  ...  f_PcntN  f_PcntNi  f_PcntP  f_PcntS  f_PcntSi  f_PcntSn  \\\n",
       "0        11.18  ...   0.0045     0.007    0.012   0.0044     0.017     0.001   \n",
       "1        11.16  ...   0.0045     0.007    0.012   0.0044     0.017     0.001   \n",
       "2         9.05  ...   0.0046     0.006    0.014   0.0046     0.006     0.001   \n",
       "3         9.05  ...   0.0046     0.006    0.014   0.0046     0.006     0.001   \n",
       "4        10.92  ...   0.0026     0.006    0.014   0.0097     0.027     0.001   \n",
       "\n",
       "   f_PcntTi  f_PcntV  YS (Mpa)  UTS (Mpa)  \n",
       "0     0.018    0.003       445        472  \n",
       "1     0.018    0.003       445        472  \n",
       "2     0.001    0.001       366        454  \n",
       "3     0.001    0.001       366        454  \n",
       "4     0.001    0.001       324        375  \n",
       "\n",
       "[5 rows x 36 columns]"
      ]
     },
     "execution_count": 4,
     "metadata": {},
     "output_type": "execute_result"
    }
   ],
   "source": [
    "# Import the excel dataset\n",
    "from sqlalchemy import create_engine\n",
    "engine = create_engine('sqlite://', echo=False)\n",
    "file = input('Enter the excel file for prediction: ')\n",
    "df = pd.read_excel(file)\n",
    "df.head()"
   ]
  },
  {
   "cell_type": "code",
   "execution_count": 5,
   "metadata": {},
   "outputs": [],
   "source": [
    "# Database conversion\n",
    "df.to_sql(r'C:\\Users\\garim\\OneDrive\\Desktop\\uts_ys_.db', con=engine, index=True, index_label='id', if_exists='replace')"
   ]
  },
  {
   "cell_type": "code",
   "execution_count": 6,
   "metadata": {},
   "outputs": [
    {
     "data": {
      "text/plain": [
       "'Furnace Exit temp'"
      ]
     },
     "execution_count": 6,
     "metadata": {},
     "output_type": "execute_result"
    }
   ],
   "source": [
    "# checking the column names \n",
    "df.columns[1]"
   ]
  },
  {
   "cell_type": "code",
   "execution_count": 7,
   "metadata": {},
   "outputs": [
    {
     "data": {
      "text/html": [
       "<div>\n",
       "<style scoped>\n",
       "    .dataframe tbody tr th:only-of-type {\n",
       "        vertical-align: middle;\n",
       "    }\n",
       "\n",
       "    .dataframe tbody tr th {\n",
       "        vertical-align: top;\n",
       "    }\n",
       "\n",
       "    .dataframe thead th {\n",
       "        text-align: right;\n",
       "    }\n",
       "</style>\n",
       "<table border=\"1\" class=\"dataframe\">\n",
       "  <thead>\n",
       "    <tr style=\"text-align: right;\">\n",
       "      <th></th>\n",
       "      <th>Coil ID</th>\n",
       "      <th>Furnace Exit temp</th>\n",
       "      <th>RM1 Exit</th>\n",
       "      <th>RM2 Drop Out temp.</th>\n",
       "      <th>FM Entry Temp</th>\n",
       "      <th>FM Exit Temp</th>\n",
       "      <th>Coiling Temp</th>\n",
       "      <th>Original Slab Thickness</th>\n",
       "      <th>Slab Width</th>\n",
       "      <th>Slab Length</th>\n",
       "      <th>...</th>\n",
       "      <th>f_PcntN</th>\n",
       "      <th>f_PcntNi</th>\n",
       "      <th>f_PcntP</th>\n",
       "      <th>f_PcntS</th>\n",
       "      <th>f_PcntSi</th>\n",
       "      <th>f_PcntSn</th>\n",
       "      <th>f_PcntTi</th>\n",
       "      <th>f_PcntV</th>\n",
       "      <th>YS (Mpa)</th>\n",
       "      <th>UTS (Mpa)</th>\n",
       "    </tr>\n",
       "  </thead>\n",
       "  <tbody>\n",
       "    <tr>\n",
       "      <th>Coil ID</th>\n",
       "      <td>1.00</td>\n",
       "      <td>-0.02</td>\n",
       "      <td>0.17</td>\n",
       "      <td>0.16</td>\n",
       "      <td>0.10</td>\n",
       "      <td>0.13</td>\n",
       "      <td>0.08</td>\n",
       "      <td>0.00</td>\n",
       "      <td>-0.01</td>\n",
       "      <td>0.08</td>\n",
       "      <td>...</td>\n",
       "      <td>-0.01</td>\n",
       "      <td>-0.03</td>\n",
       "      <td>0.03</td>\n",
       "      <td>0.06</td>\n",
       "      <td>0.03</td>\n",
       "      <td>0.0</td>\n",
       "      <td>-0.06</td>\n",
       "      <td>-0.01</td>\n",
       "      <td>0.04</td>\n",
       "      <td>-0.01</td>\n",
       "    </tr>\n",
       "    <tr>\n",
       "      <th>Furnace Exit temp</th>\n",
       "      <td>-0.02</td>\n",
       "      <td>1.00</td>\n",
       "      <td>0.01</td>\n",
       "      <td>0.02</td>\n",
       "      <td>0.13</td>\n",
       "      <td>-0.03</td>\n",
       "      <td>-0.17</td>\n",
       "      <td>0.04</td>\n",
       "      <td>-0.11</td>\n",
       "      <td>0.27</td>\n",
       "      <td>...</td>\n",
       "      <td>0.13</td>\n",
       "      <td>-0.02</td>\n",
       "      <td>-0.06</td>\n",
       "      <td>-0.06</td>\n",
       "      <td>-0.22</td>\n",
       "      <td>0.0</td>\n",
       "      <td>0.11</td>\n",
       "      <td>0.08</td>\n",
       "      <td>-0.03</td>\n",
       "      <td>0.02</td>\n",
       "    </tr>\n",
       "    <tr>\n",
       "      <th>RM1 Exit</th>\n",
       "      <td>0.17</td>\n",
       "      <td>0.01</td>\n",
       "      <td>1.00</td>\n",
       "      <td>1.00</td>\n",
       "      <td>0.43</td>\n",
       "      <td>0.17</td>\n",
       "      <td>-0.17</td>\n",
       "      <td>0.05</td>\n",
       "      <td>-0.01</td>\n",
       "      <td>-0.07</td>\n",
       "      <td>...</td>\n",
       "      <td>-0.00</td>\n",
       "      <td>-0.04</td>\n",
       "      <td>-0.02</td>\n",
       "      <td>0.11</td>\n",
       "      <td>-0.22</td>\n",
       "      <td>-0.0</td>\n",
       "      <td>0.12</td>\n",
       "      <td>0.10</td>\n",
       "      <td>0.16</td>\n",
       "      <td>-0.01</td>\n",
       "    </tr>\n",
       "    <tr>\n",
       "      <th>RM2 Drop Out temp.</th>\n",
       "      <td>0.16</td>\n",
       "      <td>0.02</td>\n",
       "      <td>1.00</td>\n",
       "      <td>1.00</td>\n",
       "      <td>0.42</td>\n",
       "      <td>0.16</td>\n",
       "      <td>-0.17</td>\n",
       "      <td>0.06</td>\n",
       "      <td>-0.02</td>\n",
       "      <td>-0.08</td>\n",
       "      <td>...</td>\n",
       "      <td>0.00</td>\n",
       "      <td>-0.03</td>\n",
       "      <td>-0.02</td>\n",
       "      <td>0.11</td>\n",
       "      <td>-0.23</td>\n",
       "      <td>0.0</td>\n",
       "      <td>0.13</td>\n",
       "      <td>0.11</td>\n",
       "      <td>0.17</td>\n",
       "      <td>-0.02</td>\n",
       "    </tr>\n",
       "    <tr>\n",
       "      <th>FM Entry Temp</th>\n",
       "      <td>0.10</td>\n",
       "      <td>0.13</td>\n",
       "      <td>0.43</td>\n",
       "      <td>0.42</td>\n",
       "      <td>1.00</td>\n",
       "      <td>0.22</td>\n",
       "      <td>0.30</td>\n",
       "      <td>0.03</td>\n",
       "      <td>0.41</td>\n",
       "      <td>-0.00</td>\n",
       "      <td>...</td>\n",
       "      <td>-0.16</td>\n",
       "      <td>-0.03</td>\n",
       "      <td>0.11</td>\n",
       "      <td>-0.00</td>\n",
       "      <td>0.08</td>\n",
       "      <td>-0.0</td>\n",
       "      <td>-0.23</td>\n",
       "      <td>-0.04</td>\n",
       "      <td>-0.30</td>\n",
       "      <td>-0.15</td>\n",
       "    </tr>\n",
       "  </tbody>\n",
       "</table>\n",
       "<p>5 rows × 36 columns</p>\n",
       "</div>"
      ],
      "text/plain": [
       "                    Coil ID  Furnace Exit temp  RM1 Exit  RM2 Drop Out temp.  \\\n",
       "Coil ID                1.00              -0.02      0.17                0.16   \n",
       "Furnace Exit temp     -0.02               1.00      0.01                0.02   \n",
       "RM1 Exit               0.17               0.01      1.00                1.00   \n",
       "RM2 Drop Out temp.     0.16               0.02      1.00                1.00   \n",
       "FM Entry Temp          0.10               0.13      0.43                0.42   \n",
       "\n",
       "                    FM Entry Temp  FM Exit Temp  Coiling Temp  \\\n",
       "Coil ID                      0.10          0.13          0.08   \n",
       "Furnace Exit temp            0.13         -0.03         -0.17   \n",
       "RM1 Exit                     0.43          0.17         -0.17   \n",
       "RM2 Drop Out temp.           0.42          0.16         -0.17   \n",
       "FM Entry Temp                1.00          0.22          0.30   \n",
       "\n",
       "                    Original Slab Thickness  Slab Width  Slab Length  ...  \\\n",
       "Coil ID                                0.00       -0.01         0.08  ...   \n",
       "Furnace Exit temp                      0.04       -0.11         0.27  ...   \n",
       "RM1 Exit                               0.05       -0.01        -0.07  ...   \n",
       "RM2 Drop Out temp.                     0.06       -0.02        -0.08  ...   \n",
       "FM Entry Temp                          0.03        0.41        -0.00  ...   \n",
       "\n",
       "                    f_PcntN  f_PcntNi  f_PcntP  f_PcntS  f_PcntSi  f_PcntSn  \\\n",
       "Coil ID               -0.01     -0.03     0.03     0.06      0.03       0.0   \n",
       "Furnace Exit temp      0.13     -0.02    -0.06    -0.06     -0.22       0.0   \n",
       "RM1 Exit              -0.00     -0.04    -0.02     0.11     -0.22      -0.0   \n",
       "RM2 Drop Out temp.     0.00     -0.03    -0.02     0.11     -0.23       0.0   \n",
       "FM Entry Temp         -0.16     -0.03     0.11    -0.00      0.08      -0.0   \n",
       "\n",
       "                    f_PcntTi  f_PcntV  YS (Mpa)  UTS (Mpa)  \n",
       "Coil ID                -0.06    -0.01      0.04      -0.01  \n",
       "Furnace Exit temp       0.11     0.08     -0.03       0.02  \n",
       "RM1 Exit                0.12     0.10      0.16      -0.01  \n",
       "RM2 Drop Out temp.      0.13     0.11      0.17      -0.02  \n",
       "FM Entry Temp          -0.23    -0.04     -0.30      -0.15  \n",
       "\n",
       "[5 rows x 36 columns]"
      ]
     },
     "execution_count": 7,
     "metadata": {},
     "output_type": "execute_result"
    }
   ],
   "source": [
    "df2 = df.corr()\n",
    "df1 = df2.round(decimals=2)\n",
    "df1.head()"
   ]
  },
  {
   "cell_type": "code",
   "execution_count": 8,
   "metadata": {},
   "outputs": [
    {
     "data": {
      "text/html": [
       "<div>\n",
       "<style scoped>\n",
       "    .dataframe tbody tr th:only-of-type {\n",
       "        vertical-align: middle;\n",
       "    }\n",
       "\n",
       "    .dataframe tbody tr th {\n",
       "        vertical-align: top;\n",
       "    }\n",
       "\n",
       "    .dataframe thead th {\n",
       "        text-align: right;\n",
       "    }\n",
       "</style>\n",
       "<table border=\"1\" class=\"dataframe\">\n",
       "  <thead>\n",
       "    <tr style=\"text-align: right;\">\n",
       "      <th></th>\n",
       "      <th>Coil ID</th>\n",
       "      <th>Furnace Exit temp</th>\n",
       "      <th>RM1 Exit</th>\n",
       "      <th>RM2 Drop Out temp.</th>\n",
       "      <th>FM Entry Temp</th>\n",
       "      <th>FM Exit Temp</th>\n",
       "      <th>Coiling Temp</th>\n",
       "      <th>Original Slab Thickness</th>\n",
       "      <th>Slab Width</th>\n",
       "      <th>Slab Length</th>\n",
       "      <th>...</th>\n",
       "      <th>f_PcntN</th>\n",
       "      <th>f_PcntNi</th>\n",
       "      <th>f_PcntP</th>\n",
       "      <th>f_PcntS</th>\n",
       "      <th>f_PcntSi</th>\n",
       "      <th>f_PcntSn</th>\n",
       "      <th>f_PcntTi</th>\n",
       "      <th>f_PcntV</th>\n",
       "      <th>YS (Mpa)</th>\n",
       "      <th>UTS (Mpa)</th>\n",
       "    </tr>\n",
       "  </thead>\n",
       "  <tbody>\n",
       "    <tr>\n",
       "      <th>count</th>\n",
       "      <td>3.799000e+03</td>\n",
       "      <td>3799.000000</td>\n",
       "      <td>3799.000000</td>\n",
       "      <td>3799.000000</td>\n",
       "      <td>3799.000000</td>\n",
       "      <td>3799.000000</td>\n",
       "      <td>3799.000000</td>\n",
       "      <td>3799.000000</td>\n",
       "      <td>3799.000000</td>\n",
       "      <td>3799.000000</td>\n",
       "      <td>...</td>\n",
       "      <td>3799.000000</td>\n",
       "      <td>3799.000000</td>\n",
       "      <td>3799.000000</td>\n",
       "      <td>3799.000000</td>\n",
       "      <td>3799.000000</td>\n",
       "      <td>3.799000e+03</td>\n",
       "      <td>3799.000000</td>\n",
       "      <td>3799.000000</td>\n",
       "      <td>3799.000000</td>\n",
       "      <td>3799.000000</td>\n",
       "    </tr>\n",
       "    <tr>\n",
       "      <th>mean</th>\n",
       "      <td>1.968467e+07</td>\n",
       "      <td>1291.586578</td>\n",
       "      <td>1045.948750</td>\n",
       "      <td>1046.020969</td>\n",
       "      <td>999.102395</td>\n",
       "      <td>880.086528</td>\n",
       "      <td>618.373409</td>\n",
       "      <td>224.443590</td>\n",
       "      <td>1579.216373</td>\n",
       "      <td>10.352632</td>\n",
       "      <td>...</td>\n",
       "      <td>0.003526</td>\n",
       "      <td>0.007071</td>\n",
       "      <td>0.014541</td>\n",
       "      <td>0.005678</td>\n",
       "      <td>0.052065</td>\n",
       "      <td>1.000000e-03</td>\n",
       "      <td>0.005124</td>\n",
       "      <td>0.002918</td>\n",
       "      <td>361.026059</td>\n",
       "      <td>459.523032</td>\n",
       "    </tr>\n",
       "    <tr>\n",
       "      <th>std</th>\n",
       "      <td>3.064827e+03</td>\n",
       "      <td>24.130300</td>\n",
       "      <td>19.411015</td>\n",
       "      <td>19.371578</td>\n",
       "      <td>18.086484</td>\n",
       "      <td>14.909147</td>\n",
       "      <td>22.544082</td>\n",
       "      <td>0.786775</td>\n",
       "      <td>241.581461</td>\n",
       "      <td>0.780653</td>\n",
       "      <td>...</td>\n",
       "      <td>0.000794</td>\n",
       "      <td>0.009333</td>\n",
       "      <td>0.004787</td>\n",
       "      <td>0.001995</td>\n",
       "      <td>0.059398</td>\n",
       "      <td>8.089213e-17</td>\n",
       "      <td>0.007784</td>\n",
       "      <td>0.008591</td>\n",
       "      <td>86.320173</td>\n",
       "      <td>96.532270</td>\n",
       "    </tr>\n",
       "    <tr>\n",
       "      <th>min</th>\n",
       "      <td>1.967901e+07</td>\n",
       "      <td>1205.030000</td>\n",
       "      <td>940.465600</td>\n",
       "      <td>941.169200</td>\n",
       "      <td>916.000000</td>\n",
       "      <td>814.920600</td>\n",
       "      <td>482.812300</td>\n",
       "      <td>199.000000</td>\n",
       "      <td>1028.000000</td>\n",
       "      <td>7.650000</td>\n",
       "      <td>...</td>\n",
       "      <td>0.001700</td>\n",
       "      <td>0.005000</td>\n",
       "      <td>0.004000</td>\n",
       "      <td>0.001800</td>\n",
       "      <td>0.001000</td>\n",
       "      <td>1.000000e-03</td>\n",
       "      <td>0.001000</td>\n",
       "      <td>0.001000</td>\n",
       "      <td>226.000000</td>\n",
       "      <td>324.000000</td>\n",
       "    </tr>\n",
       "    <tr>\n",
       "      <th>25%</th>\n",
       "      <td>1.968222e+07</td>\n",
       "      <td>1276.921000</td>\n",
       "      <td>1033.513000</td>\n",
       "      <td>1033.647000</td>\n",
       "      <td>988.000000</td>\n",
       "      <td>870.108350</td>\n",
       "      <td>613.389150</td>\n",
       "      <td>224.400000</td>\n",
       "      <td>1364.000000</td>\n",
       "      <td>9.700000</td>\n",
       "      <td>...</td>\n",
       "      <td>0.003000</td>\n",
       "      <td>0.006000</td>\n",
       "      <td>0.012000</td>\n",
       "      <td>0.004300</td>\n",
       "      <td>0.010000</td>\n",
       "      <td>1.000000e-03</td>\n",
       "      <td>0.001000</td>\n",
       "      <td>0.001000</td>\n",
       "      <td>306.000000</td>\n",
       "      <td>382.000000</td>\n",
       "    </tr>\n",
       "    <tr>\n",
       "      <th>50%</th>\n",
       "      <td>1.968497e+07</td>\n",
       "      <td>1292.323000</td>\n",
       "      <td>1047.073000</td>\n",
       "      <td>1047.320000</td>\n",
       "      <td>1000.000000</td>\n",
       "      <td>877.423500</td>\n",
       "      <td>622.697900</td>\n",
       "      <td>224.500000</td>\n",
       "      <td>1632.000000</td>\n",
       "      <td>10.560000</td>\n",
       "      <td>...</td>\n",
       "      <td>0.003400</td>\n",
       "      <td>0.007000</td>\n",
       "      <td>0.014000</td>\n",
       "      <td>0.005300</td>\n",
       "      <td>0.018000</td>\n",
       "      <td>1.000000e-03</td>\n",
       "      <td>0.001000</td>\n",
       "      <td>0.001000</td>\n",
       "      <td>330.000000</td>\n",
       "      <td>453.000000</td>\n",
       "    </tr>\n",
       "    <tr>\n",
       "      <th>75%</th>\n",
       "      <td>1.968731e+07</td>\n",
       "      <td>1306.140500</td>\n",
       "      <td>1059.718000</td>\n",
       "      <td>1059.668000</td>\n",
       "      <td>1011.000000</td>\n",
       "      <td>888.964450</td>\n",
       "      <td>631.318550</td>\n",
       "      <td>224.500000</td>\n",
       "      <td>1702.500000</td>\n",
       "      <td>11.110000</td>\n",
       "      <td>...</td>\n",
       "      <td>0.004000</td>\n",
       "      <td>0.007000</td>\n",
       "      <td>0.017000</td>\n",
       "      <td>0.006800</td>\n",
       "      <td>0.086000</td>\n",
       "      <td>1.000000e-03</td>\n",
       "      <td>0.003000</td>\n",
       "      <td>0.001000</td>\n",
       "      <td>378.000000</td>\n",
       "      <td>483.000000</td>\n",
       "    </tr>\n",
       "    <tr>\n",
       "      <th>max</th>\n",
       "      <td>1.968958e+07</td>\n",
       "      <td>1384.494000</td>\n",
       "      <td>1095.869000</td>\n",
       "      <td>1095.742000</td>\n",
       "      <td>1056.000000</td>\n",
       "      <td>944.995000</td>\n",
       "      <td>692.242800</td>\n",
       "      <td>265.300000</td>\n",
       "      <td>2101.000000</td>\n",
       "      <td>11.220000</td>\n",
       "      <td>...</td>\n",
       "      <td>0.006900</td>\n",
       "      <td>0.258000</td>\n",
       "      <td>0.101000</td>\n",
       "      <td>0.015000</td>\n",
       "      <td>0.380000</td>\n",
       "      <td>1.000000e-03</td>\n",
       "      <td>0.065000</td>\n",
       "      <td>0.085000</td>\n",
       "      <td>692.000000</td>\n",
       "      <td>925.000000</td>\n",
       "    </tr>\n",
       "  </tbody>\n",
       "</table>\n",
       "<p>8 rows × 36 columns</p>\n",
       "</div>"
      ],
      "text/plain": [
       "            Coil ID  Furnace Exit temp     RM1 Exit  RM2 Drop Out temp.  \\\n",
       "count  3.799000e+03        3799.000000  3799.000000         3799.000000   \n",
       "mean   1.968467e+07        1291.586578  1045.948750         1046.020969   \n",
       "std    3.064827e+03          24.130300    19.411015           19.371578   \n",
       "min    1.967901e+07        1205.030000   940.465600          941.169200   \n",
       "25%    1.968222e+07        1276.921000  1033.513000         1033.647000   \n",
       "50%    1.968497e+07        1292.323000  1047.073000         1047.320000   \n",
       "75%    1.968731e+07        1306.140500  1059.718000         1059.668000   \n",
       "max    1.968958e+07        1384.494000  1095.869000         1095.742000   \n",
       "\n",
       "       FM Entry Temp  FM Exit Temp  Coiling Temp  Original Slab Thickness  \\\n",
       "count    3799.000000   3799.000000   3799.000000              3799.000000   \n",
       "mean      999.102395    880.086528    618.373409               224.443590   \n",
       "std        18.086484     14.909147     22.544082                 0.786775   \n",
       "min       916.000000    814.920600    482.812300               199.000000   \n",
       "25%       988.000000    870.108350    613.389150               224.400000   \n",
       "50%      1000.000000    877.423500    622.697900               224.500000   \n",
       "75%      1011.000000    888.964450    631.318550               224.500000   \n",
       "max      1056.000000    944.995000    692.242800               265.300000   \n",
       "\n",
       "        Slab Width  Slab Length  ...      f_PcntN     f_PcntNi      f_PcntP  \\\n",
       "count  3799.000000  3799.000000  ...  3799.000000  3799.000000  3799.000000   \n",
       "mean   1579.216373    10.352632  ...     0.003526     0.007071     0.014541   \n",
       "std     241.581461     0.780653  ...     0.000794     0.009333     0.004787   \n",
       "min    1028.000000     7.650000  ...     0.001700     0.005000     0.004000   \n",
       "25%    1364.000000     9.700000  ...     0.003000     0.006000     0.012000   \n",
       "50%    1632.000000    10.560000  ...     0.003400     0.007000     0.014000   \n",
       "75%    1702.500000    11.110000  ...     0.004000     0.007000     0.017000   \n",
       "max    2101.000000    11.220000  ...     0.006900     0.258000     0.101000   \n",
       "\n",
       "           f_PcntS     f_PcntSi      f_PcntSn     f_PcntTi      f_PcntV  \\\n",
       "count  3799.000000  3799.000000  3.799000e+03  3799.000000  3799.000000   \n",
       "mean      0.005678     0.052065  1.000000e-03     0.005124     0.002918   \n",
       "std       0.001995     0.059398  8.089213e-17     0.007784     0.008591   \n",
       "min       0.001800     0.001000  1.000000e-03     0.001000     0.001000   \n",
       "25%       0.004300     0.010000  1.000000e-03     0.001000     0.001000   \n",
       "50%       0.005300     0.018000  1.000000e-03     0.001000     0.001000   \n",
       "75%       0.006800     0.086000  1.000000e-03     0.003000     0.001000   \n",
       "max       0.015000     0.380000  1.000000e-03     0.065000     0.085000   \n",
       "\n",
       "          YS (Mpa)    UTS (Mpa)  \n",
       "count  3799.000000  3799.000000  \n",
       "mean    361.026059   459.523032  \n",
       "std      86.320173    96.532270  \n",
       "min     226.000000   324.000000  \n",
       "25%     306.000000   382.000000  \n",
       "50%     330.000000   453.000000  \n",
       "75%     378.000000   483.000000  \n",
       "max     692.000000   925.000000  \n",
       "\n",
       "[8 rows x 36 columns]"
      ]
     },
     "execution_count": 8,
     "metadata": {},
     "output_type": "execute_result"
    }
   ],
   "source": [
    "#  full statistics of the data\n",
    "df.describe()"
   ]
  },
  {
   "cell_type": "code",
   "execution_count": 9,
   "metadata": {},
   "outputs": [
    {
     "data": {
      "text/html": [
       "<div>\n",
       "<style scoped>\n",
       "    .dataframe tbody tr th:only-of-type {\n",
       "        vertical-align: middle;\n",
       "    }\n",
       "\n",
       "    .dataframe tbody tr th {\n",
       "        vertical-align: top;\n",
       "    }\n",
       "\n",
       "    .dataframe thead th {\n",
       "        text-align: right;\n",
       "    }\n",
       "</style>\n",
       "<table border=\"1\" class=\"dataframe\">\n",
       "  <thead>\n",
       "    <tr style=\"text-align: right;\">\n",
       "      <th></th>\n",
       "      <th>Coil ID</th>\n",
       "      <th>Furnace Exit temp</th>\n",
       "      <th>RM1 Exit</th>\n",
       "      <th>RM2 Drop Out temp.</th>\n",
       "      <th>FM Entry Temp</th>\n",
       "      <th>FM Exit Temp</th>\n",
       "      <th>Coiling Temp</th>\n",
       "      <th>Original Slab Thickness</th>\n",
       "      <th>Slab Width</th>\n",
       "      <th>Slab Length</th>\n",
       "      <th>...</th>\n",
       "      <th>f_PcntN</th>\n",
       "      <th>f_PcntNi</th>\n",
       "      <th>f_PcntP</th>\n",
       "      <th>f_PcntS</th>\n",
       "      <th>f_PcntSi</th>\n",
       "      <th>f_PcntSn</th>\n",
       "      <th>f_PcntTi</th>\n",
       "      <th>f_PcntV</th>\n",
       "      <th>YS_mpa</th>\n",
       "      <th>UTS_mpa</th>\n",
       "    </tr>\n",
       "  </thead>\n",
       "  <tbody>\n",
       "    <tr>\n",
       "      <th>0</th>\n",
       "      <td>19679009</td>\n",
       "      <td>1303.594</td>\n",
       "      <td>1043.169</td>\n",
       "      <td>1042.417</td>\n",
       "      <td>968</td>\n",
       "      <td>876.7108</td>\n",
       "      <td>621.9152</td>\n",
       "      <td>224.5</td>\n",
       "      <td>1313</td>\n",
       "      <td>11.18</td>\n",
       "      <td>...</td>\n",
       "      <td>0.0045</td>\n",
       "      <td>0.007</td>\n",
       "      <td>0.012</td>\n",
       "      <td>0.0044</td>\n",
       "      <td>0.017</td>\n",
       "      <td>0.001</td>\n",
       "      <td>0.018</td>\n",
       "      <td>0.003</td>\n",
       "      <td>445</td>\n",
       "      <td>472</td>\n",
       "    </tr>\n",
       "    <tr>\n",
       "      <th>1</th>\n",
       "      <td>19679010</td>\n",
       "      <td>1293.303</td>\n",
       "      <td>1027.293</td>\n",
       "      <td>1026.546</td>\n",
       "      <td>950</td>\n",
       "      <td>872.3495</td>\n",
       "      <td>621.4305</td>\n",
       "      <td>224.4</td>\n",
       "      <td>1313</td>\n",
       "      <td>11.16</td>\n",
       "      <td>...</td>\n",
       "      <td>0.0045</td>\n",
       "      <td>0.007</td>\n",
       "      <td>0.012</td>\n",
       "      <td>0.0044</td>\n",
       "      <td>0.017</td>\n",
       "      <td>0.001</td>\n",
       "      <td>0.018</td>\n",
       "      <td>0.003</td>\n",
       "      <td>445</td>\n",
       "      <td>472</td>\n",
       "    </tr>\n",
       "    <tr>\n",
       "      <th>2</th>\n",
       "      <td>19679011</td>\n",
       "      <td>1297.567</td>\n",
       "      <td>1039.006</td>\n",
       "      <td>1038.730</td>\n",
       "      <td>989</td>\n",
       "      <td>872.2347</td>\n",
       "      <td>621.3252</td>\n",
       "      <td>224.5</td>\n",
       "      <td>1313</td>\n",
       "      <td>9.05</td>\n",
       "      <td>...</td>\n",
       "      <td>0.0046</td>\n",
       "      <td>0.006</td>\n",
       "      <td>0.014</td>\n",
       "      <td>0.0046</td>\n",
       "      <td>0.006</td>\n",
       "      <td>0.001</td>\n",
       "      <td>0.001</td>\n",
       "      <td>0.001</td>\n",
       "      <td>366</td>\n",
       "      <td>454</td>\n",
       "    </tr>\n",
       "    <tr>\n",
       "      <th>3</th>\n",
       "      <td>19679012</td>\n",
       "      <td>1295.043</td>\n",
       "      <td>1039.496</td>\n",
       "      <td>1039.228</td>\n",
       "      <td>987</td>\n",
       "      <td>875.3984</td>\n",
       "      <td>621.3052</td>\n",
       "      <td>224.5</td>\n",
       "      <td>1313</td>\n",
       "      <td>9.05</td>\n",
       "      <td>...</td>\n",
       "      <td>0.0046</td>\n",
       "      <td>0.006</td>\n",
       "      <td>0.014</td>\n",
       "      <td>0.0046</td>\n",
       "      <td>0.006</td>\n",
       "      <td>0.001</td>\n",
       "      <td>0.001</td>\n",
       "      <td>0.001</td>\n",
       "      <td>366</td>\n",
       "      <td>454</td>\n",
       "    </tr>\n",
       "    <tr>\n",
       "      <th>4</th>\n",
       "      <td>19679041</td>\n",
       "      <td>1262.333</td>\n",
       "      <td>1040.285</td>\n",
       "      <td>1039.984</td>\n",
       "      <td>990</td>\n",
       "      <td>902.8033</td>\n",
       "      <td>634.3483</td>\n",
       "      <td>224.5</td>\n",
       "      <td>1289</td>\n",
       "      <td>10.92</td>\n",
       "      <td>...</td>\n",
       "      <td>0.0026</td>\n",
       "      <td>0.006</td>\n",
       "      <td>0.014</td>\n",
       "      <td>0.0097</td>\n",
       "      <td>0.027</td>\n",
       "      <td>0.001</td>\n",
       "      <td>0.001</td>\n",
       "      <td>0.001</td>\n",
       "      <td>324</td>\n",
       "      <td>375</td>\n",
       "    </tr>\n",
       "  </tbody>\n",
       "</table>\n",
       "<p>5 rows × 36 columns</p>\n",
       "</div>"
      ],
      "text/plain": [
       "    Coil ID  Furnace Exit temp  RM1 Exit  RM2 Drop Out temp.  FM Entry Temp  \\\n",
       "0  19679009           1303.594  1043.169            1042.417            968   \n",
       "1  19679010           1293.303  1027.293            1026.546            950   \n",
       "2  19679011           1297.567  1039.006            1038.730            989   \n",
       "3  19679012           1295.043  1039.496            1039.228            987   \n",
       "4  19679041           1262.333  1040.285            1039.984            990   \n",
       "\n",
       "   FM Exit Temp  Coiling Temp  Original Slab Thickness  Slab Width  \\\n",
       "0      876.7108      621.9152                    224.5        1313   \n",
       "1      872.3495      621.4305                    224.4        1313   \n",
       "2      872.2347      621.3252                    224.5        1313   \n",
       "3      875.3984      621.3052                    224.5        1313   \n",
       "4      902.8033      634.3483                    224.5        1289   \n",
       "\n",
       "   Slab Length  ...  f_PcntN  f_PcntNi  f_PcntP  f_PcntS  f_PcntSi  f_PcntSn  \\\n",
       "0        11.18  ...   0.0045     0.007    0.012   0.0044     0.017     0.001   \n",
       "1        11.16  ...   0.0045     0.007    0.012   0.0044     0.017     0.001   \n",
       "2         9.05  ...   0.0046     0.006    0.014   0.0046     0.006     0.001   \n",
       "3         9.05  ...   0.0046     0.006    0.014   0.0046     0.006     0.001   \n",
       "4        10.92  ...   0.0026     0.006    0.014   0.0097     0.027     0.001   \n",
       "\n",
       "   f_PcntTi  f_PcntV  YS_mpa  UTS_mpa  \n",
       "0     0.018    0.003     445      472  \n",
       "1     0.018    0.003     445      472  \n",
       "2     0.001    0.001     366      454  \n",
       "3     0.001    0.001     366      454  \n",
       "4     0.001    0.001     324      375  \n",
       "\n",
       "[5 rows x 36 columns]"
      ]
     },
     "execution_count": 9,
     "metadata": {},
     "output_type": "execute_result"
    }
   ],
   "source": [
    "# Rename the target coulumn names\n",
    "df.rename(columns = {'UTS (Mpa)':'UTS_mpa', 'YS (Mpa)': 'YS_mpa'}, inplace = True)\n",
    "df.head()"
   ]
  },
  {
   "cell_type": "code",
   "execution_count": 12,
   "metadata": {},
   "outputs": [
    {
     "name": "stdout",
     "output_type": "stream",
     "text": [
      "Enter the minimum Correlation value for YS: 0.55\n"
     ]
    },
    {
     "data": {
      "text/plain": [
       "['Slab Width', 'f_PcntCa', 'f_PcntNb', 'f_PcntMn', 'f_PcntTi']"
      ]
     },
     "execution_count": 12,
     "metadata": {},
     "output_type": "execute_result"
    }
   ],
   "source": [
    "df1.drop(['YS (Mpa)', 'UTS (Mpa)'], axis =1)\n",
    "final_YS = []\n",
    "valYS = input('Enter the minimum Correlation value for YS: ')\n",
    "for i in range (1, 34):\n",
    "    if abs(df1.iloc[i, 34].astype(float)) >= abs(float(valYS)) :\n",
    "        final_YS.append(df1.columns[i])\n",
    "\n",
    "final_YS"
   ]
  },
  {
   "cell_type": "code",
   "execution_count": 47,
   "metadata": {},
   "outputs": [
    {
     "name": "stdout",
     "output_type": "stream",
     "text": [
      "Enter the minimum Correlation value for UTS: 0.5\n"
     ]
    },
    {
     "data": {
      "text/plain": [
       "['f_PcntC', 'f_PcntCa', 'f_PcntNb', 'f_PcntMn', 'f_PcntN', 'f_PcntSi']"
      ]
     },
     "execution_count": 47,
     "metadata": {},
     "output_type": "execute_result"
    }
   ],
   "source": [
    "final_UTS = []\n",
    "valUTS = input('Enter the minimum Correlation value for UTS: ')\n",
    "for i in range (1, 34):\n",
    "    if abs(df1.iloc[i, 35].astype(float)) >= abs(float(valUTS)):\n",
    "        final_UTS.append(df1.columns[i])\n",
    "        \n",
    "final_UTS"
   ]
  },
  {
   "cell_type": "markdown",
   "metadata": {},
   "source": [
    "### Correlation Matrix\n",
    "The parameters with respect to Yield Strength and Ultimate Tensile Strength which have correlation between 0.5 and -0.5 have week positive/negative correlation whereas the parameter which have correlation between 0.5 to 1 and -0.5 to -1 have strong positive/negative correlation. Hence, we will pick the parameters with strong negative/positive correlation."
   ]
  },
  {
   "cell_type": "code",
   "execution_count": 11,
   "metadata": {},
   "outputs": [
    {
     "data": {
      "image/png": "[encoded data removed]",
      "text/plain": [
       "<Figure size 1440x504 with 6 Axes>"
      ]
     },
     "metadata": {
      "needs_background": "light"
     },
     "output_type": "display_data"
    }
   ],
   "source": [
    "fig, axes = plt.subplots(1, 3, figsize=(20, 7))\n",
    "fig.suptitle('CORRELATION MATRIX',fontsize=25)\n",
    "\n",
    "corr = df.iloc[:, 17:36].corr()\n",
    "sb.heatmap(data = corr,ax = axes[0], cmap = 'cividis')\n",
    "axes[0].set_title('f_pcnt',fontsize=15)\n",
    "\n",
    "corr = df.iloc[:, [1,2,3,4,5,6,34,35]].corr()\n",
    "sb.heatmap(data = corr,ax = axes[1], cmap = 'plasma')\n",
    "axes[1].set_title('Temperature',fontsize=15)\n",
    "\n",
    "corr = df.iloc[:, [7,8,9,10,11,12,13,14,15,16,34,35]].corr()\n",
    "sb.heatmap(data = corr, ax = axes[2], cmap = 'viridis')\n",
    "axes[2].set_title('Dimension',fontsize=15)\n",
    "plt.tight_layout(rect=[0, 0.1, 1, 0.95])"
   ]
  },
  {
   "cell_type": "markdown",
   "metadata": {},
   "source": [
    "### Data Cleaning"
   ]
  },
  {
   "cell_type": "code",
   "execution_count": 12,
   "metadata": {
    "scrolled": true
   },
   "outputs": [],
   "source": [
    "# df.drop(['Coil ID','Original Slab Thickness','f_PcntB','f_PcntCa','f_PcntCr','f_PcntCu','f_PcntMo'], inplace = True, axis =1)\n",
    "# df.drop(['f_PcntN','f_PcntNi','f_PcntSn','f_PcntV'], inplace =True , axis =1)\n",
    "# df.head()"
   ]
  },
  {
   "cell_type": "code",
   "execution_count": 13,
   "metadata": {},
   "outputs": [],
   "source": [
    "df2 = df.drop(['YS_mpa', 'UTS_mpa'], axis = 1)"
   ]
  },
  {
   "cell_type": "markdown",
   "metadata": {},
   "source": [
    "## Yield Strength Modeling"
   ]
  },
  {
   "cell_type": "markdown",
   "metadata": {},
   "source": [
    "### Train-Test Split"
   ]
  },
  {
   "cell_type": "code",
   "execution_count": 18,
   "metadata": {},
   "outputs": [],
   "source": [
    "# Defining the input and target data\n",
    "X = df[final_YS] \n",
    "Y = df[['YS_mpa']]\n",
    "\n",
    "# Train_Test_Split\n",
    "X_train, X_test, Y_train, Y_test = train_test_split(X,Y,test_size=0.2,random_state=0)"
   ]
  },
  {
   "cell_type": "markdown",
   "metadata": {},
   "source": [
    "### Multiple Linear Regression"
   ]
  },
  {
   "cell_type": "code",
   "execution_count": 37,
   "metadata": {},
   "outputs": [
    {
     "data": {
      "text/plain": [
       "LinearRegression(copy_X=True, fit_intercept=True, n_jobs=None, normalize=False)"
      ]
     },
     "execution_count": 37,
     "metadata": {},
     "output_type": "execute_result"
    }
   ],
   "source": [
    "# Defining the model of Linear Regression\n",
    "reg_ys = linear_model.LinearRegression()\n",
    "\n",
    "# Fitting the model\n",
    "reg_ys.fit (X_train, Y_train)"
   ]
  },
  {
   "cell_type": "code",
   "execution_count": 38,
   "metadata": {},
   "outputs": [],
   "source": [
    "# Predict the test value\n",
    "Y_pred = reg_ys.predict(X_test)"
   ]
  },
  {
   "cell_type": "code",
   "execution_count": 39,
   "metadata": {
    "tags": []
   },
   "outputs": [
    {
     "name": "stdout",
     "output_type": "stream",
     "text": [
      "Coefficients:  [[ -2.76380329 -56.88164812  28.9460664    1.94108396  38.54392918\n",
      "   20.36283967  -0.54010315   5.64508584]]\n",
      "Intercept:  [361.09147746]\n"
     ]
    }
   ],
   "source": [
    "# The coefficients and Intercept values\n",
    "print ('Coefficients: ', reg_ys.coef_)\n",
    "print ('Intercept: ', reg_ys.intercept_)"
   ]
  },
  {
   "cell_type": "code",
   "execution_count": 40,
   "metadata": {
    "tags": []
   },
   "outputs": [
    {
     "name": "stdout",
     "output_type": "stream",
     "text": [
      "Residual sum of squares: 1839.56\n",
      "Variance score: 0.75\n",
      "Accuracy Score: 75.48103792056227\n"
     ]
    }
   ],
   "source": [
    "# Residual sum square: smaller value indicates a better model, as there is less variation in the data\n",
    "print(\"Residual sum of squares: %.2f\"\n",
    "      % np.mean((Y_pred - Y_test) ** 2))\n",
    "\n",
    "# Explained variance score: 1 is perfect prediction\n",
    "print('Variance score: %.2f' % reg_ys.score(X_test, Y_test))\n",
    "\n",
    "#Calculated r2_score \n",
    "print(\"Accuracy Score:\", r2_score(Y_test, Y_pred)*100)"
   ]
  },
  {
   "cell_type": "code",
   "execution_count": null,
   "metadata": {},
   "outputs": [],
   "source": [
    "pickle.dump(reg_ys, open('model_regYS.pkl', 'wb'))"
   ]
  },
  {
   "cell_type": "markdown",
   "metadata": {},
   "source": [
    "### Standard Scaler"
   ]
  },
  {
   "cell_type": "code",
   "execution_count": 19,
   "metadata": {},
   "outputs": [],
   "source": [
    "sc = StandardScaler()\n",
    "X_train = sc.fit_transform(X_train)\n",
    "X_test = sc.transform(X_test)"
   ]
  },
  {
   "cell_type": "markdown",
   "metadata": {},
   "source": [
    "### Random Forest"
   ]
  },
  {
   "cell_type": "code",
   "execution_count": 20,
   "metadata": {},
   "outputs": [],
   "source": [
    "# Defining the model for Random Forest Regressor\n",
    "model = RandomForestRegressor(n_jobs = -1)"
   ]
  },
  {
   "cell_type": "code",
   "execution_count": 21,
   "metadata": {},
   "outputs": [
    {
     "name": "stdout",
     "output_type": "stream",
     "text": [
      "0.9579989061653911\n",
      "190\n"
     ]
    },
    {
     "data": {
      "image/png": "[encoded data removed]",
      "text/plain": [
       "<Figure size 432x288 with 1 Axes>"
      ]
     },
     "metadata": {
      "needs_background": "light"
     },
     "output_type": "display_data"
    }
   ],
   "source": [
    "# Estimating the best possible n_estimator by visualizing it\n",
    "estimators = np.arange(10, 200, 10)\n",
    "scores = []\n",
    "for n in estimators:\n",
    "    model.set_params(n_estimators=n)\n",
    "    model.fit(X_train, Y_train['YS_mpa'])\n",
    "    scores.append(model.score(X_test, Y_test))\n",
    "plt.title(\"Effect of n_estimators\")\n",
    "plt.xlabel(\"n_estimator\")\n",
    "plt.ylabel(\"score\")\n",
    "plt.plot(estimators, scores)\n",
    "print(np.amax(scores))\n",
    "print(np.amax(estimators))"
   ]
  },
  {
   "cell_type": "code",
   "execution_count": 22,
   "metadata": {},
   "outputs": [
    {
     "data": {
      "text/plain": [
       "RandomForestRegressor(bootstrap=True, ccp_alpha=0.0, criterion='mse',\n",
       "                      max_depth=None, max_features='auto', max_leaf_nodes=None,\n",
       "                      max_samples=None, min_impurity_decrease=0.0,\n",
       "                      min_impurity_split=None, min_samples_leaf=1,\n",
       "                      min_samples_split=2, min_weight_fraction_leaf=0.0,\n",
       "                      n_estimators=190, n_jobs=None, oob_score=False,\n",
       "                      random_state=0, verbose=0, warm_start=False)"
      ]
     },
     "execution_count": 22,
     "metadata": {},
     "output_type": "execute_result"
    }
   ],
   "source": [
    "# Building the model with best n_estimator\n",
    "regressor = RandomForestRegressor(n_estimators = 190, random_state =0)\n",
    "\n",
    "# Fit the Model\n",
    "regressor.fit(X_train, Y_train['YS_mpa'])"
   ]
  },
  {
   "cell_type": "code",
   "execution_count": 23,
   "metadata": {},
   "outputs": [],
   "source": [
    "# Predict the test value\n",
    "y_pred = regressor.predict(X_test)"
   ]
  },
  {
   "cell_type": "code",
   "execution_count": 24,
   "metadata": {
    "tags": []
   },
   "outputs": [
    {
     "name": "stdout",
     "output_type": "stream",
     "text": [
      "Mean Absolute Error: 12.169314404432134\n",
      "Mean Squared Error: 320.1738415585363\n",
      "Root Mean Squared Error: 17.89340217953356\n",
      "Acuuracy: 95.73249398008925\n"
     ]
    }
   ],
   "source": [
    "# Calculating the Score and Error values\n",
    "print('Mean Absolute Error:', metrics.mean_absolute_error(Y_test, y_pred))\n",
    "print('Mean Squared Error:', metrics.mean_squared_error(Y_test, y_pred))\n",
    "print('Root Mean Squared Error:', np.sqrt(metrics.mean_squared_error(Y_test, y_pred)))\n",
    "print('Acuuracy:', metrics.r2_score(Y_test, y_pred)*100)"
   ]
  },
  {
   "cell_type": "raw",
   "metadata": {},
   "source": [
    "pickle.dump(regressor, open('model_rfYS.pkl', 'wb'))"
   ]
  },
  {
   "cell_type": "markdown",
   "metadata": {},
   "source": [
    "### Visualize Tree"
   ]
  },
  {
   "cell_type": "code",
   "execution_count": null,
   "metadata": {},
   "outputs": [],
   "source": [
    "# building the model for visualizing the tree to a particular depth\n",
    "model = RandomForestRegressor(random_state =0, max_depth = 4)\n",
    "model.fit(X_train, Y_train['YS_mpa'])\n",
    "\n",
    "# Forming the estimator\n",
    "estimator = model.estimators_[5]\n",
    "dot_data = StringIO()\n",
    "# naming the file\n",
    "filename = 'tree.png'\n",
    "# naming the features\n",
    "feature_name= df2.columns\n",
    "\n",
    "# visualize the tree\n",
    "export_graphviz(estimator, feature_names = feature_name, class_names=np.unique(Y_train['YS_mpa']), out_file=dot_data, rounded = True, proportion = False, special_characters = True,precision = 2, rotate = False, filled = True)\n",
    "graph = pydotplus.graph_from_dot_data(dot_data.getvalue())\n",
    "\n",
    "# representing the tree with particular colors\n",
    "colors = ('darkturquoise', 'pink2')\n",
    "edges = collections.defaultdict(list)\n",
    "\n",
    "for edge in graph.get_edge_list():\n",
    "    edges[edge.get_source()].append(int(edge.get_destination()))\n",
    "\n",
    "for edge in edges:\n",
    "    edges[edge].sort()    \n",
    "    for i in range(2):\n",
    "        dest = graph.get_node(str(edges[edge][i]))[0]\n",
    "        dest.set_fillcolor(colors[i])\n",
    "        \n",
    "Image(graph.create_png(), width = 900, height = 4000)"
   ]
  },
  {
   "cell_type": "markdown",
   "metadata": {},
   "source": [
    "## Ultimate Tensile Strength Modelling"
   ]
  },
  {
   "cell_type": "markdown",
   "metadata": {},
   "source": [
    "### Train-Test Split"
   ]
  },
  {
   "cell_type": "code",
   "execution_count": 26,
   "metadata": {},
   "outputs": [],
   "source": [
    "# Defining the input and target data\n",
    "x = df[final_UTS]\n",
    "y = df[['UTS_mpa']]\n",
    "\n",
    "# Train_Test_Split\n",
    "x_train, x_test, y_train, y_test = train_test_split(x,y,test_size=0.2,random_state=0)"
   ]
  },
  {
   "cell_type": "markdown",
   "metadata": {},
   "source": [
    "### Multiple Linear Regression"
   ]
  },
  {
   "cell_type": "code",
   "execution_count": 33,
   "metadata": {},
   "outputs": [
    {
     "data": {
      "text/plain": [
       "LinearRegression(copy_X=True, fit_intercept=True, n_jobs=None, normalize=False)"
      ]
     },
     "execution_count": 33,
     "metadata": {},
     "output_type": "execute_result"
    }
   ],
   "source": [
    "# Defining the model of Linear Regression\n",
    "reg_uts = linear_model.LinearRegression()\n",
    "\n",
    "# Fitting the model\n",
    "reg_uts.fit (x_train, y_train)"
   ]
  },
  {
   "cell_type": "code",
   "execution_count": 34,
   "metadata": {},
   "outputs": [],
   "source": [
    "# Predict the test value\n",
    "y_pred = reg_uts.predict(x_test)"
   ]
  },
  {
   "cell_type": "code",
   "execution_count": 35,
   "metadata": {
    "tags": []
   },
   "outputs": [
    {
     "name": "stdout",
     "output_type": "stream",
     "text": [
      "Coefficients:  [[69.2470734   4.2630175  51.58427997  7.6617793   1.48901299  8.47388304]]\n",
      "Intercept:  [459.307667]\n"
     ]
    }
   ],
   "source": [
    "# The coefficients\n",
    "print ('Coefficients: ', reg_uts.coef_)\n",
    "print ('Intercept: ', reg_uts.intercept_)"
   ]
  },
  {
   "cell_type": "code",
   "execution_count": 36,
   "metadata": {
    "tags": []
   },
   "outputs": [
    {
     "name": "stdout",
     "output_type": "stream",
     "text": [
      "Residual sum of squares: 522.23\n",
      "Variance score: 0.94\n",
      "Accuracy Score: 94.44146521597648\n"
     ]
    }
   ],
   "source": [
    "# Residual sum square: smaller value indicates a better model, as there is less variation in the data.\n",
    "print(\"Residual sum of squares: %.2f\"\n",
    "      % np.mean((y_pred - y_test) ** 2))\n",
    "\n",
    "# Explained variance score: 1 is perfect prediction\n",
    "print('Variance score: %.2f' % reg_uts.score(x_test, y_test))\n",
    "\n",
    "# Calculated r2_score \n",
    "print(\"Accuracy Score:\", r2_score(y_test, y_pred)*100)"
   ]
  },
  {
   "cell_type": "code",
   "execution_count": null,
   "metadata": {},
   "outputs": [],
   "source": [
    "pickle.dump(reg_uts, open('model_reg_uts.pkl', 'wb'))"
   ]
  },
  {
   "cell_type": "markdown",
   "metadata": {},
   "source": [
    "### Standard Scaler"
   ]
  },
  {
   "cell_type": "code",
   "execution_count": 27,
   "metadata": {},
   "outputs": [],
   "source": [
    "sc = StandardScaler()\n",
    "x_train = sc.fit_transform(x_train)\n",
    "x_test = sc.transform(x_test)"
   ]
  },
  {
   "cell_type": "code",
   "execution_count": 28,
   "metadata": {},
   "outputs": [],
   "source": [
    "# Defining the model for Random Forest Regression\n",
    "model1 = RandomForestRegressor(n_jobs = -1)"
   ]
  },
  {
   "cell_type": "code",
   "execution_count": 29,
   "metadata": {},
   "outputs": [
    {
     "name": "stdout",
     "output_type": "stream",
     "text": [
      "0.9849640969926043\n",
      "190\n"
     ]
    },
    {
     "data": {
      "image/png": "[encoded data removed]",
      "text/plain": [
       "<Figure size 432x288 with 1 Axes>"
      ]
     },
     "metadata": {
      "needs_background": "light"
     },
     "output_type": "display_data"
    }
   ],
   "source": [
    "# Estimating the best possible n_estimator by visualizing it\n",
    "estimators = np.arange(10, 200, 10)\n",
    "scores = []\n",
    "for n in estimators:\n",
    "    model.set_params(n_estimators=n)\n",
    "    model.fit(x_train, y_train['UTS_mpa'])\n",
    "    scores.append(model.score(x_test, y_test))\n",
    "plt.title(\"Effect of n_estimators\")\n",
    "plt.xlabel(\"n_estimator\")\n",
    "plt.ylabel(\"score\")\n",
    "plt.plot(estimators, scores)\n",
    "print(np.amax(scores))\n",
    "print(np.amax(estimators))"
   ]
  },
  {
   "cell_type": "code",
   "execution_count": 30,
   "metadata": {},
   "outputs": [
    {
     "data": {
      "text/plain": [
       "RandomForestRegressor(bootstrap=True, ccp_alpha=0.0, criterion='mse',\n",
       "                      max_depth=None, max_features='auto', max_leaf_nodes=None,\n",
       "                      max_samples=None, min_impurity_decrease=0.0,\n",
       "                      min_impurity_split=None, min_samples_leaf=1,\n",
       "                      min_samples_split=2, min_weight_fraction_leaf=0.0,\n",
       "                      n_estimators=190, n_jobs=None, oob_score=False,\n",
       "                      random_state=0, verbose=0, warm_start=False)"
      ]
     },
     "execution_count": 30,
     "metadata": {},
     "output_type": "execute_result"
    }
   ],
   "source": [
    "# Building the model with best n_estimator\n",
    "regressor = RandomForestRegressor(n_estimators = 190, random_state =0)\n",
    "\n",
    "# Fit the model\n",
    "regressor.fit(x_train, y_train['UTS_mpa'])"
   ]
  },
  {
   "cell_type": "code",
   "execution_count": 31,
   "metadata": {},
   "outputs": [],
   "source": [
    "# Predict the test value\n",
    "y_pred = regressor.predict(x_test)"
   ]
  },
  {
   "cell_type": "code",
   "execution_count": 32,
   "metadata": {
    "tags": []
   },
   "outputs": [
    {
     "name": "stdout",
     "output_type": "stream",
     "text": [
      "Mean Absolute Error: 7.506960541135856\n",
      "Mean Squared Error: 146.41815058043264\n",
      "Root Mean Squared Error: 12.100336796157066\n",
      "Accuracy: 98.44155509503129\n"
     ]
    }
   ],
   "source": [
    "# Calculating the Score and Error values\n",
    "print('Mean Absolute Error:', metrics.mean_absolute_error(y_test, y_pred))\n",
    "print('Mean Squared Error:', metrics.mean_squared_error(y_test, y_pred))\n",
    "print('Root Mean Squared Error:', np.sqrt(metrics.mean_squared_error(y_test, y_pred)))\n",
    "print('Accuracy:', metrics.r2_score(y_test, y_pred)*100)"
   ]
  },
  {
   "cell_type": "code",
   "execution_count": null,
   "metadata": {},
   "outputs": [],
   "source": [
    "pickle.dump(regressor, open('model_RFUTS.pkl', 'wb'))"
   ]
  },
  {
   "cell_type": "markdown",
   "metadata": {},
   "source": [
    "### Visualize Tree"
   ]
  },
  {
   "cell_type": "code",
   "execution_count": null,
   "metadata": {},
   "outputs": [],
   "source": [
    "# building the model for visualizing the tree to a particular depth\n",
    "model = RandomForestRegressor(random_state = 0, max_depth = 4)\n",
    "model.fit(x_train, y_train['UTS_mpa'])\n",
    "\n",
    "# Forming the estimator\n",
    "estimator = model.estimators_[5]\n",
    "dot_data = StringIO()\n",
    "# naming the file\n",
    "filename = 'tree2.png'\n",
    "# naming the features\n",
    "feature_name= df2.columns\n",
    "\n",
    "# visualize the tree\n",
    "export_graphviz(estimator, feature_names = feature_name, class_names=np.unique(y_train['UTS_mpa']), out_file=dot_data, rounded = True, \n",
    "                proportion = False, special_characters = True,precision = 2, rotate = False, filled = True)\n",
    "\n",
    "# representing the tree with particular colors\n",
    "graph = pydotplus.graph_from_dot_data(dot_data.getvalue())\n",
    "\n",
    "colors = ('darkseagreen1', 'lavenderblush2')\n",
    "edges = collections.defaultdict(list)\n",
    "\n",
    "for edge in graph.get_edge_list():\n",
    "    edges[edge.get_source()].append(int(edge.get_destination()))\n",
    "\n",
    "for edge in edges:\n",
    "    edges[edge].sort()    \n",
    "    for i in range(2):\n",
    "        dest = graph.get_node(str(edges[edge][i]))[0]\n",
    "        dest.set_fillcolor(colors[i])\n",
    "        \n",
    "Image(graph.create_png(), width = 900, height = 4000)"
   ]
  },
  {
   "cell_type": "code",
   "execution_count": null,
   "metadata": {},
   "outputs": [],
   "source": []
  }
 ],
 "metadata": {
  "kernelspec": {
   "display_name": "Python 3",
   "language": "python",
   "name": "python3"
  },
  "language_info": {
   "codemirror_mode": {
    "name": "ipython",
    "version": 3
   },
   "file_extension": ".py",
   "mimetype": "text/x-python",
   "name": "python",
   "nbconvert_exporter": "python",
   "pygments_lexer": "ipython3",
   "version": "3.7.6"
  }
 },
 "nbformat": 4,
 "nbformat_minor": 4
}
